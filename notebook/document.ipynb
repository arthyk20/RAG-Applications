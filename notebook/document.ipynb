{
 "cells": [
  {
   "cell_type": "code",
   "execution_count": 2,
   "id": "8cea67d2",
   "metadata": {},
   "outputs": [],
   "source": [
    "### Data Ingesion"
   ]
  },
  {
   "cell_type": "code",
   "execution_count": 3,
   "id": "30c859fe",
   "metadata": {
    "vscode": {
     "languageId": "markdown"
    }
   },
   "outputs": [],
   "source": [
    "### document data structure\n",
    "from langchain_core.documents import Document"
   ]
  },
  {
   "cell_type": "code",
   "execution_count": 4,
   "id": "252d9ccc",
   "metadata": {
    "vscode": {
     "languageId": "markdown"
    }
   },
   "outputs": [
    {
     "data": {
      "text/plain": [
       "Document(metadata={}, page_content=\"This is the main text I'm using to create RAG\")"
      ]
     },
     "execution_count": 4,
     "metadata": {},
     "output_type": "execute_result"
    }
   ],
   "source": [
    "doc = Document(\n",
    "    page_content = \"This is the main text I'm using to create RAG\",\n",
    "    meta_data = {\n",
    "        \"source\":\"example.txt\",\n",
    "        \"pages\":1,\n",
    "        \"author\":\"Arthy\",\n",
    "        \"date_created\":\"24-10-2025\"\n",
    "    }\n",
    ")\n",
    "doc"
   ]
  },
  {
   "cell_type": "code",
   "execution_count": 5,
   "id": "4a04e04e",
   "metadata": {
    "vscode": {
     "languageId": "markdown"
    }
   },
   "outputs": [],
   "source": [
    "import os\n",
    "os.makedirs(\"../data/text_files\", exist_ok = True)"
   ]
  },
  {
   "cell_type": "code",
   "execution_count": 9,
   "id": "3fb56ff6",
   "metadata": {},
   "outputs": [
    {
     "name": "stdout",
     "output_type": "stream",
     "text": [
      "Sample text file created\n"
     ]
    }
   ],
   "source": [
    "sample_text = {\n",
    "    \"../data/text_files/machineLearning\":\"\"\"Machine learning is a branch of Artificial Intelligence that focuses on developing models and algorithms that let computers learn from data without being explicitly programmed for every task. In simple words, ML teaches the systems to think and understand like humans by learning from the data.\n",
    "\n",
    "Module 1: Machine Learning Pipeline\n",
    "This section covers preprocessing, exploratory data analysis and model evaluation to prepare data, uncover insights and build reliable models.\n",
    "\n",
    "1. Data Preprocessing\n",
    "ML workflow\n",
    "Data Cleaning\n",
    "Data Preprocessing in Python\n",
    "Feature Scaling\n",
    "Feature Extraction\n",
    "Feature Engineering\n",
    "Feature Selection Techniques\n",
    "2. Exploratory Data Analysis\n",
    "Exploratory Data Analysis\n",
    "Exploratory Data Analysis in Python\n",
    "Advance EDA\n",
    "Time Series Data Visualization\n",
    "3. Model Evaluation\n",
    "Regularization in Machine Learning\n",
    "Confusion Matrix\n",
    "Precision, Recall and F1-Score\n",
    "AUC-ROC Curve\n",
    "Cross-validation\n",
    "Hyperparameter Tuning\n",
    "\"\"\"\n",
    "}\n",
    "\n",
    "for filepath,content in sample_text.items():\n",
    "    with open(filepath,'w', encoding=\"utf-8\") as f:\n",
    "        f.write(content)\n",
    "print(\"Sample text file created\")"
   ]
  }
 ],
 "metadata": {
  "kernelspec": {
   "display_name": ".venv",
   "language": "python",
   "name": "python3"
  },
  "language_info": {
   "codemirror_mode": {
    "name": "ipython",
    "version": 3
   },
   "file_extension": ".py",
   "mimetype": "text/x-python",
   "name": "python",
   "nbconvert_exporter": "python",
   "pygments_lexer": "ipython3",
   "version": "3.10.12"
  }
 },
 "nbformat": 4,
 "nbformat_minor": 5
}
